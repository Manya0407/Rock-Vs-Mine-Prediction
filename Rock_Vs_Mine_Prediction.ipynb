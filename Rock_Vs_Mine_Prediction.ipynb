{
  "cells": [
    {
      "cell_type": "markdown",
      "metadata": {
        "id": "vvZlKolBwgBb"
      },
      "source": [
        "Importing the Dependencies"
      ]
    },
    {
      "cell_type": "code",
      "execution_count": null,
      "metadata": {
        "id": "2JHKnKXwv31-"
      },
      "outputs": [],
      "source": [
        "import numpy as np\n",
        "import pandas as pd\n",
        "from sklearn.model_selection import train_test_split\n",
        "from sklearn.linear_model import LogisticRegression\n",
        "from sklearn.metrics import accuracy_score"
      ]
    },
    {
      "cell_type": "markdown",
      "metadata": {
        "id": "xe9QxGVAxU3i"
      },
      "source": [
        "Data Collection And Data Processing"
      ]
    },
    {
      "cell_type": "code",
      "execution_count": null,
      "metadata": {
        "id": "yvIY862qxZlK"
      },
      "outputs": [],
      "source": [
        "#loading the dataset to a pandas DataFrame\n",
        "sonar_data = pd.read_csv('/content/Copy of sonar data - Copy of sonar data.csv', header=None)"
      ]
    },
    {
      "cell_type": "code",
      "execution_count": null,
      "metadata": {
        "id": "aMJcVtuix-ku"
      },
      "outputs": [],
      "source": [
        "sonar_data.head()"
      ]
    },
    {
      "cell_type": "code",
      "execution_count": null,
      "metadata": {
        "colab": {
          "base_uri": "https://localhost:8080/"
        },
        "id": "VOViisNjyXDY",
        "outputId": "5e5cdd8a-864b-445b-b166-15e1eae7c941"
      },
      "outputs": [
        {
          "data": {
            "text/plain": [
              "(208, 61)"
            ]
          },
          "execution_count": 4,
          "metadata": {},
          "output_type": "execute_result"
        }
      ],
      "source": [
        "\n",
        "sonar_data.shape"
      ]
    },
    {
      "cell_type": "code",
      "execution_count": null,
      "metadata": {
        "id": "DA-21j8Hywg3"
      },
      "outputs": [],
      "source": [
        "sonar_data.describe() #statistical measures of the data"
      ]
    },
    {
      "cell_type": "code",
      "execution_count": null,
      "metadata": {
        "colab": {
          "base_uri": "https://localhost:8080/"
        },
        "id": "1V2d8jy1zMZs",
        "outputId": "24381919-648f-45bc-ebde-bdcd829b6247"
      },
      "outputs": [
        {
          "data": {
            "text/plain": [
              "60\n",
              "M    111\n",
              "R     97\n",
              "Name: count, dtype: int64"
            ]
          },
          "execution_count": 7,
          "metadata": {},
          "output_type": "execute_result"
        }
      ],
      "source": [
        "sonar_data[60].value_counts()"
      ]
    },
    {
      "cell_type": "code",
      "execution_count": null,
      "metadata": {
        "id": "XHDg3rePzYUW"
      },
      "outputs": [],
      "source": [
        "sonar_data.groupby(60).mean()"
      ]
    },
    {
      "cell_type": "code",
      "execution_count": null,
      "metadata": {
        "id": "v1YIoBbf0ENt"
      },
      "outputs": [],
      "source": [
        "#Separating data and label\n",
        "X=sonar_data.drop(columns=60,axis=1)\n",
        "Y=sonar_data[60]\n",
        "print (X)\n",
        "print(Y)"
      ]
    },
    {
      "cell_type": "code",
      "execution_count": null,
      "metadata": {
        "id": "yOdAeUcR0fR9"
      },
      "outputs": [],
      "source": [
        "#Training and test data\n",
        "X_train ,x_test, y_train,y_test=train_test_split(X,Y, test_size=0.1 , stratify=Y, random_state=1)\n",
        "\n"
      ]
    },
    {
      "cell_type": "code",
      "execution_count": null,
      "metadata": {
        "colab": {
          "base_uri": "https://localhost:8080/"
        },
        "id": "FejunPv12inO",
        "outputId": "a9ab9781-ec7f-4a99-895b-c143d05bed03"
      },
      "outputs": [
        {
          "name": "stdout",
          "output_type": "stream",
          "text": [
            "(208, 60) (187, 60) (21, 60)\n"
          ]
        }
      ],
      "source": [
        "print(X.shape, X_train.shape , x_test.shape)"
      ]
    },
    {
      "cell_type": "markdown",
      "metadata": {
        "id": "pc5GKUht2y15"
      },
      "source": [
        "Model training -> Logistic Regression"
      ]
    },
    {
      "cell_type": "code",
      "execution_count": null,
      "metadata": {
        "id": "85Y6-v8R24Nr"
      },
      "outputs": [],
      "source": [
        "model= LogisticRegression()\n"
      ]
    },
    {
      "cell_type": "code",
      "execution_count": null,
      "metadata": {
        "id": "O5hDXCyz2_ug"
      },
      "outputs": [],
      "source": [
        "#training the logistic Regression model with training data\n",
        "model.fit(X_train , y_train)"
      ]
    },
    {
      "cell_type": "markdown",
      "metadata": {
        "id": "868iufOR3bHO"
      },
      "source": [
        "Model evaluation"
      ]
    },
    {
      "cell_type": "code",
      "execution_count": null,
      "metadata": {
        "id": "FPyoRq8w3d9M"
      },
      "outputs": [],
      "source": [
        "#accuracy on training data\n",
        "X_train_prediction=model.predict(X_train)\n",
        "training_data_aaccuracy=accuracy_score(X_train_prediction , y_train)\n"
      ]
    },
    {
      "cell_type": "code",
      "execution_count": null,
      "metadata": {
        "colab": {
          "base_uri": "https://localhost:8080/"
        },
        "id": "ReOyUG0R4VfF",
        "outputId": "096516d7-0ee3-458e-e8e9-e6c377625e80"
      },
      "outputs": [
        {
          "name": "stdout",
          "output_type": "stream",
          "text": [
            "Accuracy on training data : 0.8342245989304813\n"
          ]
        }
      ],
      "source": [
        "print(\"Accuracy on training data :\" ,training_data_aaccuracy)"
      ]
    },
    {
      "cell_type": "code",
      "execution_count": null,
      "metadata": {
        "id": "i-I5rc284c3S"
      },
      "outputs": [],
      "source": [
        "#accuracy on test data\n",
        "X_test_prediction=model.predict(x_test)\n",
        "test_data_aaccuracy=accuracy_score(X_test_prediction , y_test)\n"
      ]
    },
    {
      "cell_type": "code",
      "execution_count": null,
      "metadata": {
        "colab": {
          "base_uri": "https://localhost:8080/"
        },
        "id": "sqsmorRR4ryP",
        "outputId": "24fc50f1-00a6-471a-9ca8-8256545acb06"
      },
      "outputs": [
        {
          "name": "stdout",
          "output_type": "stream",
          "text": [
            "Accuracy on test data : 0.7619047619047619\n"
          ]
        }
      ],
      "source": [
        "print(\"Accuracy on test data :\" ,test_data_aaccuracy)"
      ]
    },
    {
      "cell_type": "markdown",
      "metadata": {
        "id": "dxoR90xx44Mz"
      },
      "source": [
        "Making a predictive System\n"
      ]
    },
    {
      "cell_type": "code",
      "execution_count": null,
      "metadata": {
        "colab": {
          "base_uri": "https://localhost:8080/"
        },
        "id": "mCdXn_ec464X",
        "outputId": "19978cfc-f190-49ec-e73c-3b33daac1901"
      },
      "outputs": [
        {
          "name": "stdout",
          "output_type": "stream",
          "text": [
            "['M']\n",
            "The object is a Mine\n"
          ]
        }
      ],
      "source": [
        "input_data=(0.1083,0.107,0.0257,0.0837,0.0748,0.1125,0.3322,0.459,0.5526,0.5966,0.5304,0.2251,0.2402,0.2689,0.6646,0.6632,0.1674,0.0837,0.4331,0.8718,0.7992,0.3712,0.1703,0.1611,0.2086,0.2847,0.2211,0.6134,0.5807,0.6925,0.3825,0.4303,0.7791,0.8703,1,0.9212,0.9386,0.9303,0.7314,0.4791,0.2087,0.2016,0.1669,0.2872,0.4374,0.3097,0.1578,0.0553,0.0334,0.0209,0.0172,0.018,0.011,0.0234,0.0276,0.0032,0.0084,0.0122,0.0082,0.0143)\n",
        "#changing list input_data to numpy array\n",
        "inputdataasnumpyarray = np.asarray(input_data)\n",
        "\n",
        "#reshape the np array as we are predicting for one instance\n",
        "inputdatareshape=inputdataasnumpyarray.reshape(1,-1)\n",
        "\n",
        "prediction= model.predict(inputdatareshape)\n",
        "print(prediction)\n",
        "\n",
        "if (prediction[0]=='R'):\n",
        "  print(\"The object is a Rock\")\n",
        "else:\n",
        "  print(\"The object is a Mine\")\n"
      ]
    }
  ],
  "metadata": {
    "colab": {
      "provenance": []
    },
    "kernelspec": {
      "display_name": "Python 3",
      "name": "python3"
    },
    "language_info": {
      "name": "python"
    }
  },
  "nbformat": 4,
  "nbformat_minor": 0
}
