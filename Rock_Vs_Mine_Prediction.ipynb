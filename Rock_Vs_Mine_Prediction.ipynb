{
  "nbformat": 4,
  "nbformat_minor": 0,
  "metadata": {
    "colab": {
      "provenance": []
    },
    "kernelspec": {
      "name": "python3",
      "display_name": "Python 3"
    },
    "language_info": {
      "name": "python"
    }
  },
  "cells": [
    {
      "cell_type": "markdown",
      "source": [
        "Importing the Dependencies"
      ],
      "metadata": {
        "id": "vvZlKolBwgBb"
      }
    },
    {
      "cell_type": "code",
      "source": [
        "import numpy as np\n",
        "import pandas as pd\n",
        "from sklearn.model_selection import train_test_split\n",
        "from sklearn.linear_model import LogisticRegression\n",
        "from sklearn.metrics import accuracy_score"
      ],
      "metadata": {
        "id": "2JHKnKXwv31-"
      },
      "execution_count": null,
      "outputs": []
    },
    {
      "cell_type": "markdown",
      "source": [
        "Data Collection And Data Processing"
      ],
      "metadata": {
        "id": "xe9QxGVAxU3i"
      }
    },
    {
      "cell_type": "code",
      "source": [
        "#loading the dataset to a pandas DataFrame\n",
        "sonar_data = pd.read_csv('/content/Copy of sonar data - Copy of sonar data.csv', header=None)"
      ],
      "metadata": {
        "id": "yvIY862qxZlK"
      },
      "execution_count": null,
      "outputs": []
    },
    {
      "cell_type": "code",
      "source": [
        "sonar_data.head()"
      ],
      "metadata": {
        "id": "aMJcVtuix-ku"
      },
      "execution_count": null,
      "outputs": []
    },
    {
      "cell_type": "code",
      "source": [
        "#Number of rows and columns\n",
        "sonar_data.shape"
      ],
      "metadata": {
        "colab": {
          "base_uri": "https://localhost:8080/"
        },
        "id": "VOViisNjyXDY",
        "outputId": "5e5cdd8a-864b-445b-b166-15e1eae7c941"
      },
      "execution_count": null,
      "outputs": [
        {
          "output_type": "execute_result",
          "data": {
            "text/plain": [
              "(208, 61)"
            ]
          },
          "metadata": {},
          "execution_count": 4
        }
      ]
    },
    {
      "cell_type": "code",
      "source": [
        "sonar_data.describe() #statistical measures of the data"
      ],
      "metadata": {
        "id": "DA-21j8Hywg3"
      },
      "execution_count": null,
      "outputs": []
    },
    {
      "cell_type": "code",
      "source": [
        "sonar_data[60].value_counts()"
      ],
      "metadata": {
        "colab": {
          "base_uri": "https://localhost:8080/"
        },
        "id": "1V2d8jy1zMZs",
        "outputId": "24381919-648f-45bc-ebde-bdcd829b6247"
      },
      "execution_count": null,
      "outputs": [
        {
          "output_type": "execute_result",
          "data": {
            "text/plain": [
              "60\n",
              "M    111\n",
              "R     97\n",
              "Name: count, dtype: int64"
            ]
          },
          "metadata": {},
          "execution_count": 7
        }
      ]
    },
    {
      "cell_type": "code",
      "source": [
        "sonar_data.groupby(60).mean()"
      ],
      "metadata": {
        "id": "XHDg3rePzYUW"
      },
      "execution_count": null,
      "outputs": []
    },
    {
      "cell_type": "code",
      "source": [
        "#Separating data and label\n",
        "X=sonar_data.drop(columns=60,axis=1)\n",
        "Y=sonar_data[60]\n",
        "print (X)\n",
        "print(Y)"
      ],
      "metadata": {
        "id": "v1YIoBbf0ENt"
      },
      "execution_count": null,
      "outputs": []
    },
    {
      "cell_type": "code",
      "source": [
        "#Training and test data\n",
        "X_train ,x_test, y_train,y_test=train_test_split(X,Y, test_size=0.1 , stratify=Y, random_state=1)\n",
        "\n"
      ],
      "metadata": {
        "id": "yOdAeUcR0fR9"
      },
      "execution_count": null,
      "outputs": []
    },
    {
      "cell_type": "code",
      "source": [
        "print(X.shape, X_train.shape , x_test.shape)"
      ],
      "metadata": {
        "colab": {
          "base_uri": "https://localhost:8080/"
        },
        "id": "FejunPv12inO",
        "outputId": "a9ab9781-ec7f-4a99-895b-c143d05bed03"
      },
      "execution_count": null,
      "outputs": [
        {
          "output_type": "stream",
          "name": "stdout",
          "text": [
            "(208, 60) (187, 60) (21, 60)\n"
          ]
        }
      ]
    },
    {
      "cell_type": "markdown",
      "source": [
        "Model training -> Logistic Regression"
      ],
      "metadata": {
        "id": "pc5GKUht2y15"
      }
    },
    {
      "cell_type": "code",
      "source": [
        "model= LogisticRegression()\n"
      ],
      "metadata": {
        "id": "85Y6-v8R24Nr"
      },
      "execution_count": null,
      "outputs": []
    },
    {
      "cell_type": "code",
      "source": [
        "#training the logistic Regression model with training data\n",
        "model.fit(X_train , y_train)"
      ],
      "metadata": {
        "id": "O5hDXCyz2_ug"
      },
      "execution_count": null,
      "outputs": []
    },
    {
      "cell_type": "markdown",
      "source": [
        "Model evaluation"
      ],
      "metadata": {
        "id": "868iufOR3bHO"
      }
    },
    {
      "cell_type": "code",
      "source": [
        "#accuracy on training data\n",
        "X_train_prediction=model.predict(X_train)\n",
        "training_data_aaccuracy=accuracy_score(X_train_prediction , y_train)\n"
      ],
      "metadata": {
        "id": "FPyoRq8w3d9M"
      },
      "execution_count": null,
      "outputs": []
    },
    {
      "cell_type": "code",
      "source": [
        "print(\"Accuracy on training data :\" ,training_data_aaccuracy)"
      ],
      "metadata": {
        "colab": {
          "base_uri": "https://localhost:8080/"
        },
        "id": "ReOyUG0R4VfF",
        "outputId": "096516d7-0ee3-458e-e8e9-e6c377625e80"
      },
      "execution_count": null,
      "outputs": [
        {
          "output_type": "stream",
          "name": "stdout",
          "text": [
            "Accuracy on training data : 0.8342245989304813\n"
          ]
        }
      ]
    },
    {
      "cell_type": "code",
      "source": [
        "#accuracy on test data\n",
        "X_test_prediction=model.predict(x_test)\n",
        "test_data_aaccuracy=accuracy_score(X_test_prediction , y_test)\n"
      ],
      "metadata": {
        "id": "i-I5rc284c3S"
      },
      "execution_count": null,
      "outputs": []
    },
    {
      "cell_type": "code",
      "source": [
        "print(\"Accuracy on test data :\" ,test_data_aaccuracy)"
      ],
      "metadata": {
        "colab": {
          "base_uri": "https://localhost:8080/"
        },
        "id": "sqsmorRR4ryP",
        "outputId": "24fc50f1-00a6-471a-9ca8-8256545acb06"
      },
      "execution_count": null,
      "outputs": [
        {
          "output_type": "stream",
          "name": "stdout",
          "text": [
            "Accuracy on test data : 0.7619047619047619\n"
          ]
        }
      ]
    },
    {
      "cell_type": "markdown",
      "source": [
        "Making a predictive System\n"
      ],
      "metadata": {
        "id": "dxoR90xx44Mz"
      }
    },
    {
      "cell_type": "code",
      "source": [
        "input_data=(0.1083,0.107,0.0257,0.0837,0.0748,0.1125,0.3322,0.459,0.5526,0.5966,0.5304,0.2251,0.2402,0.2689,0.6646,0.6632,0.1674,0.0837,0.4331,0.8718,0.7992,0.3712,0.1703,0.1611,0.2086,0.2847,0.2211,0.6134,0.5807,0.6925,0.3825,0.4303,0.7791,0.8703,1,0.9212,0.9386,0.9303,0.7314,0.4791,0.2087,0.2016,0.1669,0.2872,0.4374,0.3097,0.1578,0.0553,0.0334,0.0209,0.0172,0.018,0.011,0.0234,0.0276,0.0032,0.0084,0.0122,0.0082,0.0143)\n",
        "#changing list input_data to numpy array\n",
        "inputdataasnumpyarray = np.asarray(input_data)\n",
        "\n",
        "#reshape the np array as we are predicting for one instance\n",
        "inputdatareshape=inputdataasnumpyarray.reshape(1,-1)\n",
        "\n",
        "prediction= model.predict(inputdatareshape)\n",
        "print(prediction)\n",
        "\n",
        "if (prediction[0]=='R'):\n",
        "  print(\"The object is a Rock\")\n",
        "else:\n",
        "  print(\"The object is a Mine\")\n"
      ],
      "metadata": {
        "colab": {
          "base_uri": "https://localhost:8080/"
        },
        "id": "mCdXn_ec464X",
        "outputId": "19978cfc-f190-49ec-e73c-3b33daac1901"
      },
      "execution_count": null,
      "outputs": [
        {
          "output_type": "stream",
          "name": "stdout",
          "text": [
            "['M']\n",
            "The object is a Mine\n"
          ]
        }
      ]
    }
  ]
}